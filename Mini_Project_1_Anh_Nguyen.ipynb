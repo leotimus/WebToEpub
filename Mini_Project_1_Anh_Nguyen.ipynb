{
  "nbformat": 4,
  "nbformat_minor": 0,
  "metadata": {
    "colab": {
      "name": "Mini Project 1 - Anh Nguyen",
      "version": "0.3.2",
      "provenance": [],
      "collapsed_sections": [],
      "include_colab_link": true
    },
    "kernelspec": {
      "name": "python3",
      "display_name": "Python 3"
    }
  },
  "cells": [
    {
      "cell_type": "markdown",
      "metadata": {
        "id": "view-in-github",
        "colab_type": "text"
      },
      "source": [
        "<a href=\"https://colab.research.google.com/github/leotimus/WebToEpub/blob/master/Mini_Project_1_Anh_Nguyen.ipynb\" target=\"_parent\"><img src=\"https://colab.research.google.com/assets/colab-badge.svg\" alt=\"Open In Colab\"/></a>"
      ]
    },
    {
      "cell_type": "markdown",
      "metadata": {
        "id": "XZ7O4fKaitGM",
        "colab_type": "text"
      },
      "source": [
        "**Colab Link: https://colab.research.google.com/drive/1emoftQe9rBB7LKmQb-QR7RI1eNol8xze**"
      ]
    },
    {
      "cell_type": "markdown",
      "metadata": {
        "id": "ovtU53P4v-vG",
        "colab_type": "text"
      },
      "source": [
        "# **Part 1: Preprocessing**"
      ]
    },
    {
      "cell_type": "code",
      "metadata": {
        "id": "4NYuwdURimxj",
        "colab_type": "code",
        "outputId": "dd148a90-08ce-4062-9ccd-cab8dd96d60b",
        "colab": {
          "base_uri": "https://localhost:8080/",
          "height": 204
        }
      },
      "source": [
        "import pandas as pd\n",
        "dateFormat1 = \"%Y-%m-%d\"\n",
        "#Read the data\n",
        "trips = pd.read_csv('https://github.com/SDS-AAU/M1-2019/raw/master/data/trips.csv')\n",
        "trips.head()"
      ],
      "execution_count": 0,
      "outputs": [
        {
          "output_type": "execute_result",
          "data": {
            "text/html": [
              "<div>\n",
              "<style scoped>\n",
              "    .dataframe tbody tr th:only-of-type {\n",
              "        vertical-align: middle;\n",
              "    }\n",
              "\n",
              "    .dataframe tbody tr th {\n",
              "        vertical-align: top;\n",
              "    }\n",
              "\n",
              "    .dataframe thead th {\n",
              "        text-align: right;\n",
              "    }\n",
              "</style>\n",
              "<table border=\"1\" class=\"dataframe\">\n",
              "  <thead>\n",
              "    <tr style=\"text-align: right;\">\n",
              "      <th></th>\n",
              "      <th>Unnamed: 0</th>\n",
              "      <th>username</th>\n",
              "      <th>country</th>\n",
              "      <th>country_code</th>\n",
              "      <th>country_slug</th>\n",
              "      <th>date_end</th>\n",
              "      <th>date_start</th>\n",
              "      <th>latitude</th>\n",
              "      <th>longitude</th>\n",
              "      <th>place</th>\n",
              "      <th>place_slug</th>\n",
              "    </tr>\n",
              "  </thead>\n",
              "  <tbody>\n",
              "    <tr>\n",
              "      <th>0</th>\n",
              "      <td>0</td>\n",
              "      <td>@lewellenmichael</td>\n",
              "      <td>Mexico</td>\n",
              "      <td>MX</td>\n",
              "      <td>mexico</td>\n",
              "      <td>2018-06-15</td>\n",
              "      <td>2018-06-04</td>\n",
              "      <td>21</td>\n",
              "      <td>-101</td>\n",
              "      <td>Guanajuato</td>\n",
              "      <td>mexico</td>\n",
              "    </tr>\n",
              "    <tr>\n",
              "      <th>1</th>\n",
              "      <td>1</td>\n",
              "      <td>@lewellenmichael</td>\n",
              "      <td>Mexico</td>\n",
              "      <td>MX</td>\n",
              "      <td>mexico</td>\n",
              "      <td>2018-06-03</td>\n",
              "      <td>2018-05-31</td>\n",
              "      <td>19</td>\n",
              "      <td>-99</td>\n",
              "      <td>Mexico City</td>\n",
              "      <td>mexico-city-mexico</td>\n",
              "    </tr>\n",
              "    <tr>\n",
              "      <th>2</th>\n",
              "      <td>2</td>\n",
              "      <td>@lewellenmichael</td>\n",
              "      <td>Mexico</td>\n",
              "      <td>MX</td>\n",
              "      <td>mexico</td>\n",
              "      <td>2017-11-05</td>\n",
              "      <td>2017-11-01</td>\n",
              "      <td>21</td>\n",
              "      <td>-86</td>\n",
              "      <td>Cancun</td>\n",
              "      <td>cancun-mexico</td>\n",
              "    </tr>\n",
              "    <tr>\n",
              "      <th>3</th>\n",
              "      <td>3</td>\n",
              "      <td>@lewellenmichael</td>\n",
              "      <td>Jordan</td>\n",
              "      <td>JO</td>\n",
              "      <td>jordan</td>\n",
              "      <td>2017-08-07</td>\n",
              "      <td>2017-07-24</td>\n",
              "      <td>31</td>\n",
              "      <td>35</td>\n",
              "      <td>Amman</td>\n",
              "      <td>amman-jordan</td>\n",
              "    </tr>\n",
              "    <tr>\n",
              "      <th>4</th>\n",
              "      <td>4</td>\n",
              "      <td>@waylandchin</td>\n",
              "      <td>China</td>\n",
              "      <td>CN</td>\n",
              "      <td>china</td>\n",
              "      <td>2017-03-18</td>\n",
              "      <td>2017-02-17</td>\n",
              "      <td>40</td>\n",
              "      <td>122</td>\n",
              "      <td>Yingkou</td>\n",
              "      <td>china</td>\n",
              "    </tr>\n",
              "  </tbody>\n",
              "</table>\n",
              "</div>"
            ],
            "text/plain": [
              "   Unnamed: 0          username  ...        place          place_slug\n",
              "0           0  @lewellenmichael  ...   Guanajuato              mexico\n",
              "1           1  @lewellenmichael  ...  Mexico City  mexico-city-mexico\n",
              "2           2  @lewellenmichael  ...       Cancun       cancun-mexico\n",
              "3           3  @lewellenmichael  ...        Amman        amman-jordan\n",
              "4           4      @waylandchin  ...      Yingkou               china\n",
              "\n",
              "[5 rows x 11 columns]"
            ]
          },
          "metadata": {
            "tags": []
          },
          "execution_count": 122
        }
      ]
    },
    {
      "cell_type": "markdown",
      "metadata": {
        "id": "BJr2sMqjjiBu",
        "colab_type": "text"
      },
      "source": [
        "a) Trips: transform dates into timestamps"
      ]
    },
    {
      "cell_type": "code",
      "metadata": {
        "id": "uTTFv7zsXMey",
        "colab_type": "code",
        "colab": {}
      },
      "source": [
        "#Convert datatype of date_start and date_end to datetime64[ns]\n",
        "trips['date_start'] = pd.to_datetime(trips['date_start'], format = dateFormat1, errors = 'coerce')\n",
        "trips['date_end'] = pd.to_datetime(trips['date_end'], format = dateFormat1, errors = 'coerce')"
      ],
      "execution_count": 0,
      "outputs": []
    },
    {
      "cell_type": "markdown",
      "metadata": {
        "id": "Hr748blLjpDK",
        "colab_type": "text"
      },
      "source": [
        "b) Calculate trip duration in days"
      ]
    },
    {
      "cell_type": "code",
      "metadata": {
        "id": "_l87VPgYYMgN",
        "colab_type": "code",
        "outputId": "08a34771-0779-4474-e4a7-7927a7ff6e40",
        "colab": {
          "base_uri": "https://localhost:8080/",
          "height": 51
        }
      },
      "source": [
        "#Drop all columns where date_start and date_end are missing\n",
        "trips.dropna(subset=['date_start', 'date_end'], inplace=True)\n",
        "\n",
        "\n",
        "# add duration column\n",
        "print('add duration column')\n",
        "trips['duration'] = trips['date_end'].subtract(trips['date_start']).dt.days\n",
        "print('Current size: ' + str(len(trips)))"
      ],
      "execution_count": 0,
      "outputs": [
        {
          "output_type": "stream",
          "text": [
            "add duration column\n",
            "Current size: 46275\n"
          ],
          "name": "stdout"
        }
      ]
    },
    {
      "cell_type": "markdown",
      "metadata": {
        "id": "-rv8AIrtjsn5",
        "colab_type": "text"
      },
      "source": [
        "c) Filter extreme (fake?) observations for durations as well as dates - start and end"
      ]
    },
    {
      "cell_type": "code",
      "metadata": {
        "id": "PBsabdZQY0AX",
        "colab_type": "code",
        "outputId": "94bbc1f8-03ed-4304-fdb3-be19c187efe7",
        "colab": {
          "base_uri": "https://localhost:8080/",
          "height": 51
        }
      },
      "source": [
        "# between 1 and 97\n",
        "print('filter extreme duration')\n",
        "quantile_upper = trips['duration'].quantile(0.97)\n",
        "quantile_lower = trips['duration'].quantile(0.01)\n",
        "trips = trips[(trips[\"duration\"] > quantile_lower) & (trips[\"duration\"] < quantile_upper)]\n",
        "print('Current size: ' + str(len(trips)))"
      ],
      "execution_count": 0,
      "outputs": [
        {
          "output_type": "stream",
          "text": [
            "filter extreme duration\n",
            "Current size: 43328\n"
          ],
          "name": "stdout"
        }
      ]
    },
    {
      "cell_type": "markdown",
      "metadata": {
        "id": "lA-rhGi0jwjE",
        "colab_type": "text"
      },
      "source": [
        "d) join country list data with country code as key"
      ]
    },
    {
      "cell_type": "code",
      "metadata": {
        "id": "dy3NbChXZMaX",
        "colab_type": "code",
        "colab": {}
      },
      "source": [
        "# Read the data\n",
        "countries = pd.read_csv('https://github.com/SDS-AAU/M1-2019/raw/master/data/countrylist.csv')\n",
        "trips = trips.join(countries.set_index('alpha_2'), on='country_code')"
      ],
      "execution_count": 0,
      "outputs": []
    },
    {
      "cell_type": "markdown",
      "metadata": {
        "id": "Y4MU4OBLjzpL",
        "colab_type": "text"
      },
      "source": [
        "e) Set DateTime index as the start date of a trip"
      ]
    },
    {
      "cell_type": "code",
      "metadata": {
        "id": "MZCcH0rqZfuX",
        "colab_type": "code",
        "outputId": "34ef560e-e425-4726-a996-84e23194dc46",
        "colab": {
          "base_uri": "https://localhost:8080/",
          "height": 408
        }
      },
      "source": [
        "trips = trips.set_index('date_start')\n",
        "trips.head()"
      ],
      "execution_count": 0,
      "outputs": [
        {
          "output_type": "execute_result",
          "data": {
            "text/html": [
              "<div>\n",
              "<style scoped>\n",
              "    .dataframe tbody tr th:only-of-type {\n",
              "        vertical-align: middle;\n",
              "    }\n",
              "\n",
              "    .dataframe tbody tr th {\n",
              "        vertical-align: top;\n",
              "    }\n",
              "\n",
              "    .dataframe thead th {\n",
              "        text-align: right;\n",
              "    }\n",
              "</style>\n",
              "<table border=\"1\" class=\"dataframe\">\n",
              "  <thead>\n",
              "    <tr style=\"text-align: right;\">\n",
              "      <th></th>\n",
              "      <th>Unnamed: 0</th>\n",
              "      <th>username</th>\n",
              "      <th>country</th>\n",
              "      <th>country_code</th>\n",
              "      <th>country_slug</th>\n",
              "      <th>date_end</th>\n",
              "      <th>latitude</th>\n",
              "      <th>longitude</th>\n",
              "      <th>place</th>\n",
              "      <th>place_slug</th>\n",
              "      <th>duration</th>\n",
              "      <th>region</th>\n",
              "      <th>sub_region</th>\n",
              "    </tr>\n",
              "    <tr>\n",
              "      <th>date_start</th>\n",
              "      <th></th>\n",
              "      <th></th>\n",
              "      <th></th>\n",
              "      <th></th>\n",
              "      <th></th>\n",
              "      <th></th>\n",
              "      <th></th>\n",
              "      <th></th>\n",
              "      <th></th>\n",
              "      <th></th>\n",
              "      <th></th>\n",
              "      <th></th>\n",
              "      <th></th>\n",
              "    </tr>\n",
              "  </thead>\n",
              "  <tbody>\n",
              "    <tr>\n",
              "      <th>2018-06-04</th>\n",
              "      <td>0</td>\n",
              "      <td>@lewellenmichael</td>\n",
              "      <td>Mexico</td>\n",
              "      <td>MX</td>\n",
              "      <td>mexico</td>\n",
              "      <td>2018-06-15</td>\n",
              "      <td>21</td>\n",
              "      <td>-101</td>\n",
              "      <td>Guanajuato</td>\n",
              "      <td>mexico</td>\n",
              "      <td>11</td>\n",
              "      <td>Americas</td>\n",
              "      <td>Latin America and the Caribbean</td>\n",
              "    </tr>\n",
              "    <tr>\n",
              "      <th>2018-05-31</th>\n",
              "      <td>1</td>\n",
              "      <td>@lewellenmichael</td>\n",
              "      <td>Mexico</td>\n",
              "      <td>MX</td>\n",
              "      <td>mexico</td>\n",
              "      <td>2018-06-03</td>\n",
              "      <td>19</td>\n",
              "      <td>-99</td>\n",
              "      <td>Mexico City</td>\n",
              "      <td>mexico-city-mexico</td>\n",
              "      <td>3</td>\n",
              "      <td>Americas</td>\n",
              "      <td>Latin America and the Caribbean</td>\n",
              "    </tr>\n",
              "    <tr>\n",
              "      <th>2017-11-01</th>\n",
              "      <td>2</td>\n",
              "      <td>@lewellenmichael</td>\n",
              "      <td>Mexico</td>\n",
              "      <td>MX</td>\n",
              "      <td>mexico</td>\n",
              "      <td>2017-11-05</td>\n",
              "      <td>21</td>\n",
              "      <td>-86</td>\n",
              "      <td>Cancun</td>\n",
              "      <td>cancun-mexico</td>\n",
              "      <td>4</td>\n",
              "      <td>Americas</td>\n",
              "      <td>Latin America and the Caribbean</td>\n",
              "    </tr>\n",
              "    <tr>\n",
              "      <th>2017-07-24</th>\n",
              "      <td>3</td>\n",
              "      <td>@lewellenmichael</td>\n",
              "      <td>Jordan</td>\n",
              "      <td>JO</td>\n",
              "      <td>jordan</td>\n",
              "      <td>2017-08-07</td>\n",
              "      <td>31</td>\n",
              "      <td>35</td>\n",
              "      <td>Amman</td>\n",
              "      <td>amman-jordan</td>\n",
              "      <td>14</td>\n",
              "      <td>Asia</td>\n",
              "      <td>Western Asia</td>\n",
              "    </tr>\n",
              "    <tr>\n",
              "      <th>2017-02-17</th>\n",
              "      <td>4</td>\n",
              "      <td>@waylandchin</td>\n",
              "      <td>China</td>\n",
              "      <td>CN</td>\n",
              "      <td>china</td>\n",
              "      <td>2017-03-18</td>\n",
              "      <td>40</td>\n",
              "      <td>122</td>\n",
              "      <td>Yingkou</td>\n",
              "      <td>china</td>\n",
              "      <td>29</td>\n",
              "      <td>Asia</td>\n",
              "      <td>Eastern Asia</td>\n",
              "    </tr>\n",
              "  </tbody>\n",
              "</table>\n",
              "</div>"
            ],
            "text/plain": [
              "            Unnamed: 0  ...                       sub_region\n",
              "date_start              ...                                 \n",
              "2018-06-04           0  ...  Latin America and the Caribbean\n",
              "2018-05-31           1  ...  Latin America and the Caribbean\n",
              "2017-11-01           2  ...  Latin America and the Caribbean\n",
              "2017-07-24           3  ...                     Western Asia\n",
              "2017-02-17           4  ...                     Eastern Asia\n",
              "\n",
              "[5 rows x 13 columns]"
            ]
          },
          "metadata": {
            "tags": []
          },
          "execution_count": 127
        }
      ]
    },
    {
      "cell_type": "markdown",
      "metadata": {
        "id": "MyCwtmk2i5-0",
        "colab_type": "text"
      },
      "source": [
        "# **Part 2: People**"
      ]
    },
    {
      "cell_type": "code",
      "metadata": {
        "id": "t4eHOlTvZmq7",
        "colab_type": "code",
        "outputId": "ab082a3e-b467-41e9-e779-9b7dbf4d6d6a",
        "colab": {
          "base_uri": "https://localhost:8080/",
          "height": 119
        }
      },
      "source": [
        "#Read the data\n",
        "people = pd.read_csv(\"https://github.com/SDS-AAU/M1-2019/raw/master/data/people.csv\", index_col=0)\n",
        "\n",
        "# Check for missing data \n",
        "people.isnull().sum()"
      ],
      "execution_count": 0,
      "outputs": [
        {
          "output_type": "execute_result",
          "data": {
            "text/plain": [
              "username            0\n",
              "followers           0\n",
              "following           0\n",
              "work_raw         2434\n",
              "education_raw    3565\n",
              "dtype: int64"
            ]
          },
          "metadata": {
            "tags": []
          },
          "execution_count": 128
        }
      ]
    },
    {
      "cell_type": "code",
      "metadata": {
        "id": "bNR86CziaC_v",
        "colab_type": "code",
        "colab": {}
      },
      "source": [
        "#Drop all columns where education_raw and work_raw are missing \n",
        "people.dropna(subset=['education_raw'], inplace=True)\n",
        "people.dropna(subset=['work_raw'], inplace=True)"
      ],
      "execution_count": 0,
      "outputs": []
    },
    {
      "cell_type": "markdown",
      "metadata": {
        "id": "C3NWrQ-5j4yl",
        "colab_type": "text"
      },
      "source": [
        "a) How many people having at least a “High School” diploma?"
      ]
    },
    {
      "cell_type": "code",
      "metadata": {
        "id": "OaEKmoesaSTi",
        "colab_type": "code",
        "outputId": "f56ad2ff-b4c7-4662-8f7f-2021bb4c700c",
        "colab": {
          "base_uri": "https://localhost:8080/",
          "height": 119
        }
      },
      "source": [
        "# Use lambda expression to verify entry with \"High School\" string \n",
        "isWithHighSchoolEdu = lambda x:('High School' in x)\n",
        "\n",
        "result = people['education_raw'].apply(isWithHighSchoolEdu)\n",
        "result.head()"
      ],
      "execution_count": 0,
      "outputs": [
        {
          "output_type": "execute_result",
          "data": {
            "text/plain": [
              "0      True\n",
              "7      True\n",
              "14    False\n",
              "15     True\n",
              "16     True\n",
              "Name: education_raw, dtype: bool"
            ]
          },
          "metadata": {
            "tags": []
          },
          "execution_count": 130
        }
      ]
    },
    {
      "cell_type": "code",
      "metadata": {
        "id": "c_EYnTfJgD1w",
        "colab_type": "code",
        "outputId": "3b050356-b70a-4611-e7c4-c32c2715f443",
        "colab": {
          "base_uri": "https://localhost:8080/",
          "height": 34
        }
      },
      "source": [
        "# The number of people having at least \"High School\" diploma is \"True\" in \"result\" \n",
        "numOfHS = len(result[result == True].index)\n",
        "print(\"Number of people having at least a “High School” diploma:\", numOfHS)"
      ],
      "execution_count": 0,
      "outputs": [
        {
          "output_type": "stream",
          "text": [
            "Number of people having at least a “High School” diploma: 126\n"
          ],
          "name": "stdout"
        }
      ]
    },
    {
      "cell_type": "markdown",
      "metadata": {
        "id": "MC_zS8k9j81O",
        "colab_type": "text"
      },
      "source": [
        "b) How many people working with “Software Dev” have a Master's Degree?"
      ]
    },
    {
      "cell_type": "code",
      "metadata": {
        "id": "p8QXTohPa0Mf",
        "colab_type": "code",
        "outputId": "565dfbcc-ef2f-4c8e-b7bf-498804a997f5",
        "colab": {
          "base_uri": "https://localhost:8080/",
          "height": 34
        }
      },
      "source": [
        "# The same technique with the question above\n",
        "master = \"Master's Degree\"\n",
        "softwareDevsHaveMasterDegree = lambda x : (('Software Dev' in x['work_raw']) & (master in x['education_raw']))\n",
        "softwareDevsHaveMasterDegree = people.apply(softwareDevsHaveMasterDegree, axis=1)\n",
        "\n",
        "print(\"Number of people working with Software Dev have a Master's Degree: \" + str(len(softwareDevsHaveMasterDegree[softwareDevsHaveMasterDegree == True].index)))\n"
      ],
      "execution_count": 0,
      "outputs": [
        {
          "output_type": "stream",
          "text": [
            "Number of people working with Software Dev have a Master's Degree: 57\n"
          ],
          "name": "stdout"
        }
      ]
    },
    {
      "cell_type": "markdown",
      "metadata": {
        "id": "4FJH126_j_x7",
        "colab_type": "text"
      },
      "source": [
        "c) Who is the person with a Master's Degree that has the highest number of followers?"
      ]
    },
    {
      "cell_type": "code",
      "metadata": {
        "id": "KYk5blL9bZ-6",
        "colab_type": "code",
        "outputId": "22227bc1-1cf7-4d92-97f3-e7824937f8f3",
        "colab": {
          "base_uri": "https://localhost:8080/",
          "height": 51
        }
      },
      "source": [
        "master = \"Master's Degree\"\n",
        "\n",
        "#Filter people with Master's Degree, use str.contains and search the key word in \"education_raw\"\n",
        "masters = people[['username', 'followers', 'education_raw']][(people.education_raw.str.contains(master))]\n",
        "\n",
        "#Find the person having the most followers\n",
        "topFollower = masters[['username', \"followers\"]][(masters.followers == masters.followers.max())]\n",
        "print('That person is ' + topFollower.username + ' who has ' + str(topFollower.followers) + ' followers.')"
      ],
      "execution_count": 0,
      "outputs": [
        {
          "output_type": "stream",
          "text": [
            "2043    That person is @levelsio who has 2043    2182\\...\n",
            "Name: username, dtype: object\n"
          ],
          "name": "stdout"
        }
      ]
    },
    {
      "cell_type": "markdown",
      "metadata": {
        "id": "DmMdddJKjDyk",
        "colab_type": "text"
      },
      "source": [
        "# **Part 3: Trips**"
      ]
    },
    {
      "cell_type": "code",
      "metadata": {
        "id": "jOud8H93dCZa",
        "colab_type": "code",
        "outputId": "5153f2aa-7db5-452e-83f4-9b26a960b65f",
        "colab": {
          "base_uri": "https://localhost:8080/",
          "height": 408
        }
      },
      "source": [
        "# Have a look at the data\n",
        "trips.head(5)"
      ],
      "execution_count": 0,
      "outputs": [
        {
          "output_type": "execute_result",
          "data": {
            "text/html": [
              "<div>\n",
              "<style scoped>\n",
              "    .dataframe tbody tr th:only-of-type {\n",
              "        vertical-align: middle;\n",
              "    }\n",
              "\n",
              "    .dataframe tbody tr th {\n",
              "        vertical-align: top;\n",
              "    }\n",
              "\n",
              "    .dataframe thead th {\n",
              "        text-align: right;\n",
              "    }\n",
              "</style>\n",
              "<table border=\"1\" class=\"dataframe\">\n",
              "  <thead>\n",
              "    <tr style=\"text-align: right;\">\n",
              "      <th></th>\n",
              "      <th>Unnamed: 0</th>\n",
              "      <th>username</th>\n",
              "      <th>country</th>\n",
              "      <th>country_code</th>\n",
              "      <th>country_slug</th>\n",
              "      <th>date_end</th>\n",
              "      <th>latitude</th>\n",
              "      <th>longitude</th>\n",
              "      <th>place</th>\n",
              "      <th>place_slug</th>\n",
              "      <th>duration</th>\n",
              "      <th>region</th>\n",
              "      <th>sub_region</th>\n",
              "    </tr>\n",
              "    <tr>\n",
              "      <th>date_start</th>\n",
              "      <th></th>\n",
              "      <th></th>\n",
              "      <th></th>\n",
              "      <th></th>\n",
              "      <th></th>\n",
              "      <th></th>\n",
              "      <th></th>\n",
              "      <th></th>\n",
              "      <th></th>\n",
              "      <th></th>\n",
              "      <th></th>\n",
              "      <th></th>\n",
              "      <th></th>\n",
              "    </tr>\n",
              "  </thead>\n",
              "  <tbody>\n",
              "    <tr>\n",
              "      <th>2018-06-04</th>\n",
              "      <td>0</td>\n",
              "      <td>@lewellenmichael</td>\n",
              "      <td>Mexico</td>\n",
              "      <td>MX</td>\n",
              "      <td>mexico</td>\n",
              "      <td>2018-06-15</td>\n",
              "      <td>21</td>\n",
              "      <td>-101</td>\n",
              "      <td>Guanajuato</td>\n",
              "      <td>mexico</td>\n",
              "      <td>11</td>\n",
              "      <td>Americas</td>\n",
              "      <td>Latin America and the Caribbean</td>\n",
              "    </tr>\n",
              "    <tr>\n",
              "      <th>2018-05-31</th>\n",
              "      <td>1</td>\n",
              "      <td>@lewellenmichael</td>\n",
              "      <td>Mexico</td>\n",
              "      <td>MX</td>\n",
              "      <td>mexico</td>\n",
              "      <td>2018-06-03</td>\n",
              "      <td>19</td>\n",
              "      <td>-99</td>\n",
              "      <td>Mexico City</td>\n",
              "      <td>mexico-city-mexico</td>\n",
              "      <td>3</td>\n",
              "      <td>Americas</td>\n",
              "      <td>Latin America and the Caribbean</td>\n",
              "    </tr>\n",
              "    <tr>\n",
              "      <th>2017-11-01</th>\n",
              "      <td>2</td>\n",
              "      <td>@lewellenmichael</td>\n",
              "      <td>Mexico</td>\n",
              "      <td>MX</td>\n",
              "      <td>mexico</td>\n",
              "      <td>2017-11-05</td>\n",
              "      <td>21</td>\n",
              "      <td>-86</td>\n",
              "      <td>Cancun</td>\n",
              "      <td>cancun-mexico</td>\n",
              "      <td>4</td>\n",
              "      <td>Americas</td>\n",
              "      <td>Latin America and the Caribbean</td>\n",
              "    </tr>\n",
              "    <tr>\n",
              "      <th>2017-07-24</th>\n",
              "      <td>3</td>\n",
              "      <td>@lewellenmichael</td>\n",
              "      <td>Jordan</td>\n",
              "      <td>JO</td>\n",
              "      <td>jordan</td>\n",
              "      <td>2017-08-07</td>\n",
              "      <td>31</td>\n",
              "      <td>35</td>\n",
              "      <td>Amman</td>\n",
              "      <td>amman-jordan</td>\n",
              "      <td>14</td>\n",
              "      <td>Asia</td>\n",
              "      <td>Western Asia</td>\n",
              "    </tr>\n",
              "    <tr>\n",
              "      <th>2017-02-17</th>\n",
              "      <td>4</td>\n",
              "      <td>@waylandchin</td>\n",
              "      <td>China</td>\n",
              "      <td>CN</td>\n",
              "      <td>china</td>\n",
              "      <td>2017-03-18</td>\n",
              "      <td>40</td>\n",
              "      <td>122</td>\n",
              "      <td>Yingkou</td>\n",
              "      <td>china</td>\n",
              "      <td>29</td>\n",
              "      <td>Asia</td>\n",
              "      <td>Eastern Asia</td>\n",
              "    </tr>\n",
              "  </tbody>\n",
              "</table>\n",
              "</div>"
            ],
            "text/plain": [
              "            Unnamed: 0  ...                       sub_region\n",
              "date_start              ...                                 \n",
              "2018-06-04           0  ...  Latin America and the Caribbean\n",
              "2018-05-31           1  ...  Latin America and the Caribbean\n",
              "2017-11-01           2  ...  Latin America and the Caribbean\n",
              "2017-07-24           3  ...                     Western Asia\n",
              "2017-02-17           4  ...                     Eastern Asia\n",
              "\n",
              "[5 rows x 13 columns]"
            ]
          },
          "metadata": {
            "tags": []
          },
          "execution_count": 131
        }
      ]
    },
    {
      "cell_type": "markdown",
      "metadata": {
        "id": "EMYSBe03kEYF",
        "colab_type": "text"
      },
      "source": [
        "a) Which country received the highest number of trips?"
      ]
    },
    {
      "cell_type": "code",
      "metadata": {
        "id": "TYrpVC-tdjzy",
        "colab_type": "code",
        "outputId": "1e8ccfb3-8f03-4dca-8afd-ff2fa282a156",
        "colab": {
          "base_uri": "https://localhost:8080/",
          "height": 34
        }
      },
      "source": [
        "#base on country_slug, count the most frequency country \n",
        "country = trips['country_slug'].value_counts().idxmax()\n",
        "print(country + ' received the highest number of trips.')"
      ],
      "execution_count": 0,
      "outputs": [
        {
          "output_type": "stream",
          "text": [
            "united-states received the highest number of trips.\n"
          ],
          "name": "stdout"
        }
      ]
    },
    {
      "cell_type": "markdown",
      "metadata": {
        "id": "BbuKJQACkH7p",
        "colab_type": "text"
      },
      "source": [
        "b) Which country received the highest number of trips in 2017?"
      ]
    },
    {
      "cell_type": "code",
      "metadata": {
        "id": "F5AdDTVYd1mB",
        "colab_type": "code",
        "outputId": "1d2d721e-e47b-48d6-dcb9-c4c7ffb5e2d2",
        "colab": {
          "base_uri": "https://localhost:8080/",
          "height": 34
        }
      },
      "source": [
        "tripsIn2017 = trips['country_slug'][trips.index.year == 2017]\n",
        "country = tripsIn2017.value_counts().idxmax()\n",
        "print(country + ' received the highest number of trips in 2017.')"
      ],
      "execution_count": 0,
      "outputs": [
        {
          "output_type": "stream",
          "text": [
            "united-states received the highest number of trips in 2017.\n"
          ],
          "name": "stdout"
        }
      ]
    },
    {
      "cell_type": "markdown",
      "metadata": {
        "id": "8BngWypIkKuP",
        "colab_type": "text"
      },
      "source": [
        "c) Which is the country in 'Eastern Asia' where travellers spent on average least time when going there?"
      ]
    },
    {
      "cell_type": "code",
      "metadata": {
        "id": "g_Fv5rOoeDmy",
        "colab_type": "code",
        "outputId": "6ded34e4-ff93-4169-a32b-443b54f8059a",
        "colab": {
          "base_uri": "https://localhost:8080/",
          "height": 51
        }
      },
      "source": [
        "# From subset \"Eastern Asia\", groupby \"country\" criteria, then calculate mean of duration\n",
        "tripsToEA = trips.query(\"sub_region == 'Eastern Asia'\").groupby([\"country\"])[\"duration\"].mean().reset_index(name=\"avg_duration\")\n",
        "print(tripsToEA['country'][tripsToEA.avg_duration == tripsToEA.avg_duration.min()])\n"
      ],
      "execution_count": 0,
      "outputs": [
        {
          "output_type": "stream",
          "text": [
            "4    North Korea\n",
            "Name: country, dtype: object\n"
          ],
          "name": "stdout"
        }
      ]
    },
    {
      "cell_type": "code",
      "metadata": {
        "id": "dNm7YdMUh_lG",
        "colab_type": "code",
        "outputId": "fdc53ebc-0583-42a8-c9e5-cc5c683ca561",
        "colab": {
          "base_uri": "https://localhost:8080/",
          "height": 463
        }
      },
      "source": [
        "# Visualization\n",
        "fig, ax1 = plt.subplots(figsize=(15,7))\n",
        "tripsToEA.plot(x = 'country', y = 'avg_duration', ax=ax1)\n",
        "ax1.set_xlabel('Country')\n",
        "ax1.set_ylabel('Avg Duration')"
      ],
      "execution_count": 0,
      "outputs": [
        {
          "output_type": "execute_result",
          "data": {
            "text/plain": [
              "Text(0, 0.5, 'Avg Duration')"
            ]
          },
          "metadata": {
            "tags": []
          },
          "execution_count": 141
        },
        {
          "output_type": "display_data",
          "data": {
            "image/png": "[encoded data removed]",
            "text/plain": [
              "<Figure size 1080x504 with 1 Axes>"
            ]
          },
          "metadata": {
            "tags": []
          }
        }
      ]
    },
    {
      "cell_type": "markdown",
      "metadata": {
        "id": "LTotubUUkNQC",
        "colab_type": "text"
      },
      "source": [
        "d) Do nomads that indicate working in “Software Dev” tend to have shorter or longer trips on average?"
      ]
    },
    {
      "cell_type": "code",
      "metadata": {
        "id": "L7FdWKWhiPpf",
        "colab_type": "code",
        "outputId": "0084ec01-7693-4311-d7de-327e13886656",
        "colab": {
          "base_uri": "https://localhost:8080/",
          "height": 235
        }
      },
      "source": [
        "#merge data from 2 dataframe (trips and people) when username is the same \n",
        "peopleSubset = trips.join(people.set_index('username'), on='username')\n",
        "durationByWork = peopleSubset[['username', 'duration', 'work_raw']]\n",
        "durationByWork.head()"
      ],
      "execution_count": 0,
      "outputs": [
        {
          "output_type": "execute_result",
          "data": {
            "text/html": [
              "<div>\n",
              "<style scoped>\n",
              "    .dataframe tbody tr th:only-of-type {\n",
              "        vertical-align: middle;\n",
              "    }\n",
              "\n",
              "    .dataframe tbody tr th {\n",
              "        vertical-align: top;\n",
              "    }\n",
              "\n",
              "    .dataframe thead th {\n",
              "        text-align: right;\n",
              "    }\n",
              "</style>\n",
              "<table border=\"1\" class=\"dataframe\">\n",
              "  <thead>\n",
              "    <tr style=\"text-align: right;\">\n",
              "      <th></th>\n",
              "      <th>username</th>\n",
              "      <th>duration</th>\n",
              "      <th>work_raw</th>\n",
              "    </tr>\n",
              "    <tr>\n",
              "      <th>date_start</th>\n",
              "      <th></th>\n",
              "      <th></th>\n",
              "      <th></th>\n",
              "    </tr>\n",
              "  </thead>\n",
              "  <tbody>\n",
              "    <tr>\n",
              "      <th>2018-06-04</th>\n",
              "      <td>@lewellenmichael</td>\n",
              "      <td>11</td>\n",
              "      <td>Software Dev, Startup Founder, Finance, Crypto...</td>\n",
              "    </tr>\n",
              "    <tr>\n",
              "      <th>2018-05-31</th>\n",
              "      <td>@lewellenmichael</td>\n",
              "      <td>3</td>\n",
              "      <td>Software Dev, Startup Founder, Finance, Crypto...</td>\n",
              "    </tr>\n",
              "    <tr>\n",
              "      <th>2017-11-01</th>\n",
              "      <td>@lewellenmichael</td>\n",
              "      <td>4</td>\n",
              "      <td>Software Dev, Startup Founder, Finance, Crypto...</td>\n",
              "    </tr>\n",
              "    <tr>\n",
              "      <th>2017-07-24</th>\n",
              "      <td>@lewellenmichael</td>\n",
              "      <td>14</td>\n",
              "      <td>Software Dev, Startup Founder, Finance, Crypto...</td>\n",
              "    </tr>\n",
              "    <tr>\n",
              "      <th>2017-02-17</th>\n",
              "      <td>@waylandchin</td>\n",
              "      <td>29</td>\n",
              "      <td>NaN</td>\n",
              "    </tr>\n",
              "  </tbody>\n",
              "</table>\n",
              "</div>"
            ],
            "text/plain": [
              "                    username  ...                                           work_raw\n",
              "date_start                    ...                                                   \n",
              "2018-06-04  @lewellenmichael  ...  Software Dev, Startup Founder, Finance, Crypto...\n",
              "2018-05-31  @lewellenmichael  ...  Software Dev, Startup Founder, Finance, Crypto...\n",
              "2017-11-01  @lewellenmichael  ...  Software Dev, Startup Founder, Finance, Crypto...\n",
              "2017-07-24  @lewellenmichael  ...  Software Dev, Startup Founder, Finance, Crypto...\n",
              "2017-02-17      @waylandchin  ...                                                NaN\n",
              "\n",
              "[5 rows x 3 columns]"
            ]
          },
          "metadata": {
            "tags": []
          },
          "execution_count": 142
        }
      ]
    },
    {
      "cell_type": "code",
      "metadata": {
        "id": "fJof-qIsbCig",
        "colab_type": "code",
        "outputId": "05dd0403-dc69-41fe-99c1-65b47a0db27a",
        "colab": {
          "base_uri": "https://localhost:8080/",
          "height": 51
        }
      },
      "source": [
        "# Calculate mean of trip duration where \"Software Dev\" appears in \"work_raw\" and exclude NaN \n",
        "softwareDevAverageDuration = (durationByWork[durationByWork.work_raw.str.contains('Software Dev', na=False)])['duration'].mean()\n",
        "\n",
        "# Calculate mean of trip duration of people other than Software Dev and those with NaN (in work_raw)\n",
        "otherAverageDuration = (durationByWork[~durationByWork.work_raw.str.contains('Software Dev', na=True)])['duration'].mean()\n",
        "\n",
        "print('On average Software developer has trip duration: ' + str(softwareDevAverageDuration))\n",
        "print('On average others have trip duration: ' + str(otherAverageDuration))\n"
      ],
      "execution_count": 0,
      "outputs": [
        {
          "output_type": "stream",
          "text": [
            "On average Software developer has trip duration: 16.300127172530733\n",
            "On average others have trip duration: 17.369210977701545\n"
          ],
          "name": "stdout"
        }
      ]
    },
    {
      "cell_type": "markdown",
      "metadata": {
        "id": "GYr0lzSqcv41",
        "colab_type": "text"
      },
      "source": [
        "So the answer is \"Software Dev” tend to have shorter trips on average"
      ]
    },
    {
      "cell_type": "markdown",
      "metadata": {
        "id": "G7BNMvwikYVF",
        "colab_type": "text"
      },
      "source": [
        "e) Visualize over-time median trip duration overall (bonus: and split by world-region)."
      ]
    },
    {
      "cell_type": "code",
      "metadata": {
        "id": "6sVa2Qk5iTJc",
        "colab_type": "code",
        "outputId": "55427376-ae9f-47eb-acbf-7eadadf2a522",
        "colab": {
          "base_uri": "https://localhost:8080/",
          "height": 463
        }
      },
      "source": [
        "import matplotlib.pyplot as plt\n",
        "\n",
        "trips['week'] = trips.index.week\n",
        "\n",
        "fig, ax = plt.subplots(figsize=(15,7))\n",
        "\n",
        "trips.groupby(['week','region'])[\"duration\"].count().unstack().plot(ax=ax)\n",
        "\n",
        "ax.set_xlabel('Week')\n",
        "ax.set_ylabel('Number of Trips')"
      ],
      "execution_count": 0,
      "outputs": [
        {
          "output_type": "execute_result",
          "data": {
            "text/plain": [
              "Text(0, 0.5, 'Number of Trips')"
            ]
          },
          "metadata": {
            "tags": []
          },
          "execution_count": 119
        },
        {
          "output_type": "display_data",
          "data": {
            "image/png": "[encoded data removed]",
            "text/plain": [
              "<Figure size 1080x504 with 1 Axes>"
            ]
          },
          "metadata": {
            "tags": []
          }
        }
      ]
    }
  ]
}